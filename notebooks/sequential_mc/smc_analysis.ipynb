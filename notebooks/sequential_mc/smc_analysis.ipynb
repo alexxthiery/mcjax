{
 "cells": [
  {
   "cell_type": "markdown",
   "metadata": {},
   "source": [
    "# Analysis of Sequential MC "
   ]
  },
  {
   "cell_type": "markdown",
   "metadata": {},
   "source": [
    "Below we will analyze the role of parameters on the performance of SMC with geometric path whose backward kernel is the reverse of forward kernel.\n",
    "\n",
    "##### Parameters to evaluate:\n",
    "- MC method: (2 for now) RWM and MALA\n",
    "- step size: parameter in the MC step\n",
    "- number of distributions on the path\n",
    "- number of steps within each distribution\n",
    "\n",
    "##### Standard of performance: \n",
    "- Variance of normalization factor Z\n",
    "\n",
    "##### t = 0 Distribution\n",
    "- Standard Gaussian with dim = 10\n",
    "\n",
    "##### t = T Distribution\n",
    "-  Student Distribution with dim = 10 and deg = 5\n"
   ]
  },
  {
   "cell_type": "code",
   "execution_count": 7,
   "metadata": {},
   "outputs": [],
   "source": [
    "# Autoreload all modules\n",
    "%load_ext autoreload\n",
    "%autoreload 2\n",
    "\n",
    "import numpy as np  \n",
    "\n",
    "import jax\n",
    "import jax.numpy as jnp\n",
    "import jax.random as jr\n",
    "import pylab as plt\n",
    "\n",
    "from typing import TypedDict\n",
    "\n",
    "# add ../mcjax to the path\n",
    "import sys\n",
    "sys.path.append('../../')\n",
    "\n",
    "from mcjax.smc.geometric_smc import GeometricSMC\n",
    "from mcjax.proba.gaussian import IsotropicGauss\n",
    "from mcjax.proba.neal_funnel import NealFunnel\n",
    "from mcjax.proba.student import Student"
   ]
  },
  {
   "cell_type": "code",
   "execution_count": 8,
   "metadata": {},
   "outputs": [],
   "source": [
    "# initialize jax RNG\n",
    "key = jr.key(0)"
   ]
  },
  {
   "cell_type": "code",
   "execution_count": 9,
   "metadata": {},
   "outputs": [],
   "source": [
    "dim = 2\n",
    "mu_0 = jnp.zeros(dim)\n",
    "sigma_0 = 1.\n",
    "log_var_0 = jnp.log(sigma_0**2)\n",
    "log_gamma_0 = IsotropicGauss(mu=mu_0, log_var=log_var_0)\n",
    "\n",
    "deg = 5\n",
    "M = np.random.normal(0,1, (dim, dim))\n",
    "mu = np.random.normal(0,1, dim)\n",
    "cov = M @ M.T\n",
    "log_gamma_T = Student(mu=mu, cov=cov, deg=deg)\n"
   ]
  },
  {
   "cell_type": "code",
   "execution_count": 13,
   "metadata": {},
   "outputs": [],
   "source": [
    "class Param(TypedDict):\n",
    "    \"\"\" The class of one set of parameters \"\"\"\n",
    "    method: str  # MC method\n",
    "    step_size: float    # step size in MC method\n",
    "    num_dist: int      # number of distributions on the path\n",
    "    num_step: int     # number of steps in each distribution "
   ]
  },
  {
   "cell_type": "markdown",
   "metadata": {},
   "source": [
    "### Method: RWM v.s. MALA"
   ]
  },
  {
   "cell_type": "code",
   "execution_count": null,
   "metadata": {},
   "outputs": [
    {
     "name": "stdout",
     "output_type": "stream",
     "text": [
      "{'method': 'RWM', 'step_size': 1, 'num_dist': 10, 'num_step': 10}\n"
     ]
    },
    {
     "ename": "AttributeError",
     "evalue": "'dict' object has no attribute 'num_dist'",
     "output_type": "error",
     "traceback": [
      "\u001b[1;31m---------------------------------------------------------------------------\u001b[0m",
      "\u001b[1;31mAttributeError\u001b[0m                            Traceback (most recent call last)",
      "Cell \u001b[1;32mIn[16], line 22\u001b[0m\n\u001b[0;32m     19\u001b[0m Z_var_RWM \u001b[38;5;241m=\u001b[39m []\n\u001b[0;32m     20\u001b[0m \u001b[38;5;28;01mfor\u001b[39;00m param \u001b[38;5;129;01min\u001b[39;00m params:\n\u001b[0;32m     21\u001b[0m     variance \u001b[38;5;241m=\u001b[39m jit_variance_RWM(\n\u001b[1;32m---> 22\u001b[0m         num_dist\u001b[38;5;241m=\u001b[39m\u001b[43mparam\u001b[49m\u001b[38;5;241;43m.\u001b[39;49m\u001b[43mnum_dist\u001b[49m,\n\u001b[0;32m     23\u001b[0m         step_size\u001b[38;5;241m=\u001b[39mparam\u001b[38;5;241m.\u001b[39mstep_size,\n\u001b[0;32m     24\u001b[0m         num_substeps\u001b[38;5;241m=\u001b[39mparam\u001b[38;5;241m.\u001b[39mnum_step,\n\u001b[0;32m     25\u001b[0m         method\u001b[38;5;241m=\u001b[39mparam\u001b[38;5;241m.\u001b[39mmethod,\n\u001b[0;32m     26\u001b[0m         num_particles\u001b[38;5;241m=\u001b[39mnum_particles,\n\u001b[0;32m     27\u001b[0m         N\u001b[38;5;241m=\u001b[39m\u001b[38;5;241m10\u001b[39m\n\u001b[0;32m     28\u001b[0m     )\n\u001b[0;32m     29\u001b[0m     Z_var_RWM\u001b[38;5;241m.\u001b[39mappend((param, variance))\n",
      "\u001b[1;31mAttributeError\u001b[0m: 'dict' object has no attribute 'num_dist'"
     ]
    }
   ],
   "source": [
    "def compute_variance(num_dist,step_size, num_substeps, method,num_particles, N=10):\n",
    "    \"\"\" Compute the variance of the (log) estimator \"\"\"\n",
    "    coefs = (jnp.arange(num_dist+1)/num_dist).tolist()\n",
    "    # Initialize the SMC class\n",
    "    smc = GeometricSMC(log_gamma_0= log_gamma_0, log_gamma_T= log_gamma_T, coefs=coefs, \\\n",
    "                        step_size=step_size, num_substeps=num_substeps)\n",
    "    \n",
    "    # Run the SMC\n",
    "    key_batch = jr.split(key, N)\n",
    "    batch_run = jax.vmap(smc.single_run, in_axes=(None, 0, None))\n",
    "    Z_arr = batch_run(num_particles, key_batch, method)\n",
    "    return jnp.var(Z_arr)\n",
    "jit_variance_RWM = jax.jit(compute_variance, static_argnames=(\"method\", \"N\", \"num_particles\"))\n",
    "\n",
    "\n",
    "params = [Param(method='RWM', step_size=1, num_dist=num, num_step=10) for num in range(10, 101, 10)] \n",
    "print(params[0])\n",
    "num_particles = 10_000\n",
    "Z_var_RWM = []\n",
    "for param in params:\n",
    "    variance = jit_variance_RWM(\n",
    "        num_dist=param[\"num_dist\"],\n",
    "        step_size=param[\"step_size\"],\n",
    "        num_substeps=param[\"num_step\"],\n",
    "        method=param[\"method\"],\n",
    "        num_particles=num_particles,\n",
    "        N=10\n",
    "    )\n",
    "    Z_var_RWM.append((param, variance))"
   ]
  },
  {
   "cell_type": "code",
   "execution_count": 6,
   "metadata": {},
   "outputs": [
    {
     "ename": "NameError",
     "evalue": "name 'Param' is not defined",
     "output_type": "error",
     "traceback": [
      "\u001b[1;31m---------------------------------------------------------------------------\u001b[0m",
      "\u001b[1;31mNameError\u001b[0m                                 Traceback (most recent call last)",
      "Cell \u001b[1;32mIn[6], line 5\u001b[0m\n\u001b[0;32m      1\u001b[0m \u001b[38;5;124;03m'''\u001b[39;00m\n\u001b[0;32m      2\u001b[0m \u001b[38;5;124;03mCompare the variance of Z for two method: RWM and MALA, with fixed step_size and num_step, with num_dist \u001b[39;00m\n\u001b[0;32m      3\u001b[0m \u001b[38;5;124;03mvarying from 10 to 100\u001b[39;00m\n\u001b[0;32m      4\u001b[0m \u001b[38;5;124;03m'''\u001b[39;00m\n\u001b[1;32m----> 5\u001b[0m params \u001b[38;5;241m=\u001b[39m [Param(method\u001b[38;5;241m=\u001b[39m\u001b[38;5;124m'\u001b[39m\u001b[38;5;124mRWM\u001b[39m\u001b[38;5;124m'\u001b[39m, step_size\u001b[38;5;241m=\u001b[39m\u001b[38;5;241m1\u001b[39m, num_dist\u001b[38;5;241m=\u001b[39mnum, num_step\u001b[38;5;241m=\u001b[39m\u001b[38;5;241m10\u001b[39m) \u001b[38;5;28;01mfor\u001b[39;00m num \u001b[38;5;129;01min\u001b[39;00m \u001b[38;5;28mrange\u001b[39m(\u001b[38;5;241m10\u001b[39m, \u001b[38;5;241m101\u001b[39m, \u001b[38;5;241m10\u001b[39m)] \n\u001b[0;32m      6\u001b[0m num_particles \u001b[38;5;241m=\u001b[39m \u001b[38;5;241m10_000\u001b[39m\n\u001b[0;32m      7\u001b[0m Z_var_RWM \u001b[38;5;241m=\u001b[39m []\n",
      "Cell \u001b[1;32mIn[6], line 5\u001b[0m, in \u001b[0;36m<listcomp>\u001b[1;34m(.0)\u001b[0m\n\u001b[0;32m      1\u001b[0m \u001b[38;5;124;03m'''\u001b[39;00m\n\u001b[0;32m      2\u001b[0m \u001b[38;5;124;03mCompare the variance of Z for two method: RWM and MALA, with fixed step_size and num_step, with num_dist \u001b[39;00m\n\u001b[0;32m      3\u001b[0m \u001b[38;5;124;03mvarying from 10 to 100\u001b[39;00m\n\u001b[0;32m      4\u001b[0m \u001b[38;5;124;03m'''\u001b[39;00m\n\u001b[1;32m----> 5\u001b[0m params \u001b[38;5;241m=\u001b[39m [\u001b[43mParam\u001b[49m(method\u001b[38;5;241m=\u001b[39m\u001b[38;5;124m'\u001b[39m\u001b[38;5;124mRWM\u001b[39m\u001b[38;5;124m'\u001b[39m, step_size\u001b[38;5;241m=\u001b[39m\u001b[38;5;241m1\u001b[39m, num_dist\u001b[38;5;241m=\u001b[39mnum, num_step\u001b[38;5;241m=\u001b[39m\u001b[38;5;241m10\u001b[39m) \u001b[38;5;28;01mfor\u001b[39;00m num \u001b[38;5;129;01min\u001b[39;00m \u001b[38;5;28mrange\u001b[39m(\u001b[38;5;241m10\u001b[39m, \u001b[38;5;241m101\u001b[39m, \u001b[38;5;241m10\u001b[39m)] \n\u001b[0;32m      6\u001b[0m num_particles \u001b[38;5;241m=\u001b[39m \u001b[38;5;241m10_000\u001b[39m\n\u001b[0;32m      7\u001b[0m Z_var_RWM \u001b[38;5;241m=\u001b[39m []\n",
      "\u001b[1;31mNameError\u001b[0m: name 'Param' is not defined"
     ]
    }
   ],
   "source": [
    "'''\n",
    "Compare the variance of Z for two method: RWM and MALA, with fixed step_size and num_step, with num_dist \n",
    "varying from 10 to 100\n",
    "'''\n",
    "params = [Param(method='RWM', step_size=1, num_dist=num, num_step=10) for num in range(10, 101, 10)] \n",
    "num_particles = 10_000\n",
    "Z_var_RWM = []\n",
    "for param in params:\n",
    "    print(\"Running with param: \", param)\n",
    "    N,step_size, num_substeps, method = param['num_dist'], param['step_size'], param['num_step'], param['method']\n",
    "    coefs = (jnp.arange(N+1)/N).tolist()\n",
    "    GSMC = GeometricSMC(log_gamma_0= log_gamma_0, log_gamma_T= log_gamma_T, coefs=coefs, \\\n",
    "                        step_size=step_size, num_substeps=num_substeps)\n",
    "    Z_var = GSMC.compute_variance(key,num_particles,method,N = 10)\n",
    "    Z_var_RWM.append(Z_var)\n",
    "\n",
    "params = [Param(method='MALA', step_size=1, num_dist=num, num_step=10) for num in range(10, 101, 10)]\n",
    "Z_var_MALA = []\n",
    "for param in params:\n",
    "    print(\"Running with param: \", param)\n",
    "    N,step_size, num_substeps, method = param['num_dist'], param['step_size'], param['num_step'], param['method']\n",
    "    coefs = (jnp.arange(N+1)/N).tolist()\n",
    "    GSMC = GeometricSMC(log_gamma_0= log_gamma_0, log_gamma_T= log_gamma_T, coefs=coefs, \\\n",
    "                        step_size=step_size, num_substeps=num_substeps)\n",
    "    states = GSMC.selfadaptive_run(num_particles,key, mc_method=method)\n",
    "    Z_var = GSMC.compute_variance(key,num_particles,method,N = 10)\n",
    "    Z_var_MALA.append(Z_var)\n",
    "\n"
   ]
  },
  {
   "cell_type": "code",
   "execution_count": null,
   "metadata": {},
   "outputs": [
    {
     "data": {
      "image/png": "[encoded data removed]",
      "text/plain": [
       "<Figure size 640x480 with 1 Axes>"
      ]
     },
     "metadata": {},
     "output_type": "display_data"
    }
   ],
   "source": [
    "# Draw the plot\n",
    "plt.figure()\n",
    "plt.plot(range(10, 101, 10), Z_var_RWM, label='RWM')    \n",
    "plt.plot(range(10, 101, 10), Z_var_MALA, label='MALA')\n",
    "plt.xlabel('Number of distributions')\n",
    "plt.ylabel('Variance of Z')\n",
    "plt.legend()\n",
    "plt.show()"
   ]
  },
  {
   "cell_type": "markdown",
   "metadata": {},
   "source": [
    "### Number of steps within each distribution"
   ]
  },
  {
   "cell_type": "code",
   "execution_count": null,
   "metadata": {},
   "outputs": [],
   "source": [
    "'''\n",
    "Compare the variance of Z for different number of steps: 1,2,5,10, with fixed step_size and method = MALA, with num_dist \n",
    "varying from 10 to 100\n",
    "''' \n",
    "params = [Param(method='MALA', step_size=1, num_dist=num, num_step=step) for num in range(10, 101, 10) for step in [1,2,5,10]]\n",
    "Z_var_MALA = []\n",
    "for param in params:\n",
    "    N,step_size, num_substeps, method = param['num_dist'], param['step_size'], param['num_step'], param['method']\n",
    "    coefs = (jnp.arange(N+1)/N).tolist()\n",
    "    GSMC = GeometricSMC(log_gamma_0= log_gamma_0, log_gamma_T= log_gamma_T, coefs=coefs, \\\n",
    "                        step_size=step_size, num_substeps=num_substeps)\n",
    "    states = GSMC.selfadaptive_run(num_particles,key, mc_method=method)\n",
    "    Z_var = GSMC.compute_variance(key,num_particles,method,N = 10)\n",
    "    Z_var_MALA.append(Z_var)\n",
    "\n"
   ]
  },
  {
   "cell_type": "code",
   "execution_count": null,
   "metadata": {},
   "outputs": [],
   "source": [
    "# plot the variance of Z for different number of steps\n",
    "plt.figure()\n",
    "plt.plot(range(10, 101, 10), Z_var_MALA[:40], label='1 step')\n",
    "plt.plot(range(10, 101, 10), Z_var_MALA[40:80], label='2 steps')\n",
    "plt.plot(range(10, 101, 10), Z_var_MALA[80:120], label='5 steps')\n",
    "plt.plot(range(10, 101, 10), Z_var_MALA[120:], label='10 steps')\n",
    "plt.xlabel('Number of distributions')\n",
    "plt.ylabel('Variance of Z')\n",
    "plt.legend()"
   ]
  },
  {
   "cell_type": "markdown",
   "metadata": {},
   "source": [
    "### Step size within each distribution"
   ]
  },
  {
   "cell_type": "code",
   "execution_count": null,
   "metadata": {},
   "outputs": [],
   "source": [
    "'''\n",
    "Compare the variance of Z for different number of step_size: 0.1,0.5,1.0,5.0, with fixed num_step = 5 and method = MALA, with num_dist \n",
    "varying from 10 to 100\n",
    "''' \n",
    "params = [Param(method='MALA', step_size=step, num_dist=num, num_step=5) for num in range(10, 101, 10) for step in [0.1,0.5,1.0,5.0]]\n",
    "Z_var_MALA = []\n",
    "for param in params:\n",
    "    N,step_size, num_substeps, method = param['num_dist'], param['step_size'], param['num_step'], param['method']\n",
    "    coefs = (jnp.arange(N+1)/N).tolist()\n",
    "    GSMC = GeometricSMC(log_gamma_0= log_gamma_0, log_gamma_T= log_gamma_T, coefs=coefs, \\\n",
    "                        step_size=step_size, num_substeps=num_substeps)\n",
    "    states = GSMC.selfadaptive_run(num_particles,key, mc_method=method)\n",
    "    Z_var = GSMC.compute_variance(key,num_particles,method,N = 10)\n",
    "    Z_var_MALA.append(Z_var)\n",
    "\n",
    "\n"
   ]
  },
  {
   "cell_type": "code",
   "execution_count": null,
   "metadata": {},
   "outputs": [],
   "source": [
    "# plot\n",
    "plt.figure()\n",
    "plt.plot(range(10, 101, 10), Z_var_MALA[:40], label='0.1 step size')\n",
    "plt.plot(range(10, 101, 10), Z_var_MALA[40:80], label='0.5 step size')\n",
    "plt.plot(range(10, 101, 10), Z_var_MALA[80:120], label='1.0 step size')\n",
    "plt.plot(range(10, 101, 10), Z_var_MALA[120:], label='5.0 step size')\n",
    "plt.xlabel('Number of distributions')\n",
    "plt.ylabel('Variance of Z')\n",
    "plt.legend()\n",
    "\n"
   ]
  },
  {
   "cell_type": "code",
   "execution_count": null,
   "metadata": {},
   "outputs": [],
   "source": []
  },
  {
   "cell_type": "code",
   "execution_count": null,
   "metadata": {},
   "outputs": [],
   "source": []
  }
 ],
 "metadata": {
  "kernelspec": {
   "display_name": "Python 3",
   "language": "python",
   "name": "python3"
  },
  "language_info": {
   "codemirror_mode": {
    "name": "ipython",
    "version": 3
   },
   "file_extension": ".py",
   "mimetype": "text/x-python",
   "name": "python",
   "nbconvert_exporter": "python",
   "pygments_lexer": "ipython3",
   "version": "3.9.13"
  }
 },
 "nbformat": 4,
 "nbformat_minor": 2
}
