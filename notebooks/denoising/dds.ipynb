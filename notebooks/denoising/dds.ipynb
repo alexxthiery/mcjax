{
 "cells": [
  {
   "cell_type": "code",
   "execution_count": null,
   "metadata": {},
   "outputs": [
    {
     "name": "stdout",
     "output_type": "stream",
     "text": [
      "The autoreload extension is already loaded. To reload it, use:\n",
      "  %reload_ext autoreload\n"
     ]
    }
   ],
   "source": [
    "# Autoreload all modules\n",
    "%load_ext autoreload\n",
    "%autoreload 2\n",
    "\n",
    "import jax\n",
    "import jax.numpy as jnp\n",
    "import jax.random as jr\n",
    "from typing import NamedTuple\n",
    "from flax.training import train_state\n",
    "import optax\n",
    "import flax.linen as nn\n",
    "import matplotlib.pyplot as plt\n",
    "\n",
    "import sys\n",
    "sys.path.append('../../')\n",
    "\n",
    "from mcjax.proba.density import LogDensity\n",
    "from mcjax.process.ou import OU\n",
    "from mcjax.proba.gaussian import IsotropicGauss, MixedIsotropicGauss\n",
    "from mcjax.proba.banana2d import Banana2D\n",
    "\n",
    "from mcjax.process.dds import MLPModel,train_step, generate_samples\n"
   ]
  },
  {
   "cell_type": "code",
   "execution_count": 30,
   "metadata": {},
   "outputs": [],
   "source": [
    "# Parameters initialization\n",
    "K = 1000\n",
    "ou_sigma = 1.0\n",
    "learning_rate = 1e-4\n",
    "batch_size = 128\n",
    "num_steps = 200_000\n",
    "data_dim = 1\n",
    "\n",
    "timesteps = jnp.arange(K, dtype=jnp.float32)\n",
    "beta_start, beta_end = 0.1, 20.0\n",
    "beta = beta_start + (beta_end - beta_start) * (timesteps / (K - 1))\n",
    "alpha = 1.0 - jnp.exp(-2.0 * beta / K)"
   ]
  },
  {
   "cell_type": "markdown",
   "metadata": {},
   "source": [
    "### Forward process"
   ]
  },
  {
   "cell_type": "code",
   "execution_count": 32,
   "metadata": {},
   "outputs": [
    {
     "data": {
      "text/plain": [
       "<matplotlib.legend.Legend at 0x157676192b0>"
      ]
     },
     "execution_count": 32,
     "metadata": {},
     "output_type": "execute_result"
    },
    {
     "data": {
      "image/png": "[encoded data removed]",
      "text/plain": [
       "<Figure size 640x480 with 1 Axes>"
      ]
     },
     "metadata": {},
     "output_type": "display_data"
    }
   ],
   "source": [
    "# Test the forward process\n",
    "# init_dist = IsotropicGauss(mu=jnp.ones(data_dim), log_var=3.0)\n",
    "# init_dist = Banana2D()\n",
    "mu = jnp.array([[0.],[2.]])\n",
    "dist_sigma = jnp.array([1., 2.])\n",
    "log_var = jnp.log(dist_sigma**2)\n",
    "weights = jnp.array([0.2, 0.8])\n",
    "init_dist = MixedIsotropicGauss(mu=mu, log_var=log_var, weights=weights)\n",
    "\n",
    "key = jr.PRNGKey(0)\n",
    "key, key_ = jr.split(key)\n",
    "ou = OU(alpha=alpha, sigma=ou_sigma, init_dist=init_dist)\n",
    "xK = ou.sample(key_, 10000, K)\n",
    "normal_dist = IsotropicGauss(mu=jnp.zeros(data_dim), log_var=jnp.log(ou_sigma**2))\n",
    "\n",
    "# Plot the initial distribution, final distribution and the normal distribution\n",
    "key, key_ = jr.split(key)\n",
    "x_normal = normal_dist.sample(key, 10000)\n",
    "key, key_ = jr.split(key)\n",
    "x_init = init_dist.sample(key, 10000)\n",
    "plt.hist(x_normal, bins=50, density=True, label='normal', alpha= 0.5)\n",
    "plt.hist(xK, bins=50, density=True, label='OU', alpha= 0.5)\n",
    "plt.hist(x_init, bins=50, density=True, label='init', alpha= 0.5)\n",
    "# plt.scatter(xK[:,0], xK[:,1], label='OU', alpha= 0.5)\n",
    "plt.legend()"
   ]
  },
  {
   "cell_type": "markdown",
   "metadata": {},
   "source": [
    "### Diffusion Denoising Sampler"
   ]
  },
  {
   "cell_type": "code",
   "execution_count": 33,
   "metadata": {},
   "outputs": [],
   "source": [
    "# Diffusion Process Parameters\n",
    "K = 1000\n",
    "ou_sigma = 1.0\n",
    "data_dim = 1\n",
    "timesteps = jnp.arange(K, dtype=jnp.float32)\n",
    "beta_start, beta_end = 0.1, 20.0\n",
    "beta = beta_start + (beta_end - beta_start) * (timesteps / (K - 1))\n",
    "alpha = 1.0 - jnp.exp(-2.0 * beta / K)\n",
    "\n",
    "# Define the initial distribution of reference process\n",
    "init_dist = IsotropicGauss(mu=jnp.zeros(data_dim), log_var=0.0)\n",
    "\n",
    "# target distribution is a mixture of 2 gaussians\n",
    "mu = jnp.array([[0.],[2.]])\n",
    "dist_sigma = jnp.array([1., 2.])\n",
    "log_var = jnp.log(dist_sigma**2)\n",
    "weights = jnp.array([0.2, 0.8])\n",
    "target_dist = MixedIsotropicGauss(mu=mu, log_var=log_var, weights=weights)\n",
    "\n",
    "# Define the dynamic of the process\n",
    "ou = OU(alpha=alpha, sigma=ou_sigma, init_dist=init_dist)"
   ]
  },
  {
   "cell_type": "code",
   "execution_count": 34,
   "metadata": {},
   "outputs": [],
   "source": [
    "# Model Initialization\n",
    "model = MLPModel(dim=1, T=K)\n",
    "\n",
    "# network initialization\n",
    "key = jr.PRNGKey(0)\n",
    "key, key_ = jr.split(key)\n",
    "dummy_x = jnp.zeros((1, data_dim))\n",
    "dummy_t = jnp.zeros((1,), dtype=jnp.int32)\n",
    "params = model.init(key_, dummy_x, dummy_t)\n",
    "\n",
    "# optimizer initialization  \n",
    "optimizer = optax.adam(learning_rate)\n",
    "state = train_state.TrainState.create(\n",
    "    apply_fn=model.apply,\n",
    "    params=params,\n",
    "    tx=optimizer\n",
    ")\n"
   ]
  },
  {
   "cell_type": "code",
   "execution_count": 35,
   "metadata": {},
   "outputs": [],
   "source": [
    "# score function\n",
    "def score_fn(params, k, y):\n",
    "    batch_t = jnp.full((y.shape[0],), k, dtype=jnp.int32)\n",
    "    return model.apply(params, y, batch_t)"
   ]
  },
  {
   "cell_type": "code",
   "execution_count": 38,
   "metadata": {},
   "outputs": [],
   "source": [
    "def scan_step(carry, step):\n",
    "        state, key = carry\n",
    "        key, key_ = jr.split(key)\n",
    "        state, loss = train_step(state, key_, ou, init_dist, target_dist, score_fn, batch_size)\n",
    "            # every 100 steps, print step and current loss\n",
    "        def do_print(_):\n",
    "            jax.debug.print(\"At step {}, loss = {}\", step, loss)\n",
    "            return None\n",
    "\n",
    "        # branch on (step % 100 == 0)\n",
    "        _ = jax.lax.cond((step % 100) == 0, do_print, lambda _: None, operand=None)\n",
    "        return (state, key), loss\n",
    "\n",
    "def run_training(state, key):\n",
    "    (final_state, final_key), losses = jax.lax.scan(\n",
    "        scan_step,\n",
    "        (state, key),\n",
    "        jnp.arange(num_steps)\n",
    "    )\n",
    "    return final_state, final_key, losses"
   ]
  },
  {
   "cell_type": "code",
   "execution_count": null,
   "metadata": {},
   "outputs": [
    {
     "name": "stdout",
     "output_type": "stream",
     "text": [
      "At step 0, loss = 2063.86083984375\n",
      "At step 100, loss = 16.23408317565918\n"
     ]
    }
   ],
   "source": [
    "# Training parameters\n",
    "learning_rate = 1e-4\n",
    "batch_size = 128\n",
    "num_steps = 1000\n",
    "\n",
    "\n",
    "# Training loop\n",
    "key, key_ = jr.split(key)\n",
    "state, key, losses = run_training(state, key_)\n",
    "\n",
    "\n",
    "# Plot the loss curve\n",
    "plt.plot(losses)\n",
    "plt.xlabel('Step')\n",
    "plt.ylabel('Loss')\n",
    "plt.title('Loss Curve')\n",
    "plt.savefig('loss_curve.png')\n",
    "\n",
    "# Sample the target process\n",
    "key, key_ = jr.split(key) \n",
    "y_seq = generate_samples(\n",
    "        state.params,\n",
    "        score_fn,\n",
    "        ou,\n",
    "        num_samples=1000,\n",
    "        key=key_,\n",
    ")\n",
    "\n",
    "y_seq = jax.device_get(y_seq)\n",
    "dataset = target_dist.sample(key_, 10000)\n",
    "\n",
    "# plot the last distribution of y_seq against dataset\n",
    "plt.figure(figsize=(8, 4))\n",
    "plt.hist(dataset, bins=30, density=True, alpha=0.5, label='Target Distribution')\n",
    "plt.hist(y_seq[-1], bins=30, density=True, alpha=0.5, label='Final Samples')\n",
    "plt.hist(y_seq[0], bins=30, density=True, alpha=0.5, label='Initial Samples')\n",
    "plt.hist(y_seq[K//2], bins=30, density=True, alpha=0.5, label='Middle Samples')\n",
    "plt.title('Generated Samples vs Target Distribution')\n",
    "plt.legend()\n",
    "plt.savefig('generated_samples.png')\n"
   ]
  },
  {
   "cell_type": "code",
   "execution_count": null,
   "metadata": {},
   "outputs": [],
   "source": []
  }
 ],
 "metadata": {
  "kernelspec": {
   "display_name": "base",
   "language": "python",
   "name": "python3"
  },
  "language_info": {
   "codemirror_mode": {
    "name": "ipython",
    "version": 3
   },
   "file_extension": ".py",
   "mimetype": "text/x-python",
   "name": "python",
   "nbconvert_exporter": "python",
   "pygments_lexer": "ipython3",
   "version": "3.9.13"
  }
 },
 "nbformat": 4,
 "nbformat_minor": 2
}
